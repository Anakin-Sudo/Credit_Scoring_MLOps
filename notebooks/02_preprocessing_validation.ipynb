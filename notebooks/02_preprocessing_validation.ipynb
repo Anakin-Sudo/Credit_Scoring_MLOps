{
 "cells": [
  {
   "cell_type": "markdown",
   "source": [
    "# Notebook 02 – Preprocessing Validation\n",
    "\n",
    "Objective:  \n",
    "- Prototype preprocessing steps for numeric and categorical features.  \n",
    "- Validate ColumnTransformer logic (imputation + scaling + encoding).  \n",
    "- Ensure transformed dataset has expected shape and interpretable columns.  \n"
   ],
   "metadata": {
    "collapsed": false
   },
   "id": "d19f98d367106568"
  },
  {
   "cell_type": "code",
   "execution_count": 3,
   "outputs": [
    {
     "data": {
      "text/plain": "(['Duration',\n  'CreditAmount',\n  'InstallmentRate',\n  'ResidenceSince',\n  'Age',\n  'ExistingCredits',\n  'PeopleLiable'],\n ['OtherDetors',\n  'OtherInstallmentPlans',\n  'Housing',\n  'Telephone',\n  'ForeignWorker'],\n ['Status',\n  'CreditHistory',\n  'Purpose',\n  'Savings',\n  'Employment',\n  'SexAndStatus',\n  'Property',\n  'Job'])"
     },
     "execution_count": 3,
     "metadata": {},
     "output_type": "execute_result"
    }
   ],
   "source": [
    "import pandas as pd\n",
    "from sklearn.compose import ColumnTransformer\n",
    "from sklearn.pipeline import Pipeline\n",
    "from sklearn.preprocessing import StandardScaler, OneHotEncoder\n",
    "from category_encoders import TargetEncoder\n",
    "from sklearn.impute import SimpleImputer\n",
    "import json\n",
    "\n",
    "# Load dataset (curated version with decoded categories)\n",
    "df = pd.read_csv(\"../german_credit.csv\")\n",
    "\n",
    "X = df.drop(\"CreditRisk\", axis=1)\n",
    "y = df[\"CreditRisk\"]\n",
    "\n",
    "# Load feature groups (saved from Notebook 01)\n",
    "with open(\"../configs/feature_groups.json\", \"r\") as f:\n",
    "    feature_groups = json.load(f)\n",
    "\n",
    "num_cols = feature_groups[\"num_cols\"]\n",
    "simple_cat_cols = feature_groups[\"simple_cat_cols\"]\n",
    "complex_cat_cols = feature_groups[\"complex_cat_cols\"]\n",
    "\n",
    "num_cols, simple_cat_cols, complex_cat_cols\n"
   ],
   "metadata": {
    "collapsed": false,
    "ExecuteTime": {
     "end_time": "2025-08-31T23:44:09.076550400Z",
     "start_time": "2025-08-31T23:44:08.997823500Z"
    }
   },
   "id": "63c143097c2f3f99"
  },
  {
   "cell_type": "code",
   "execution_count": 5,
   "outputs": [],
   "source": [
    "# Numeric pipeline: impute median + scale\n",
    "num_pipeline = Pipeline(steps=[\n",
    "    (\"imputer\", SimpleImputer(strategy=\"median\")),\n",
    "    (\"scaler\", StandardScaler())\n",
    "])\n",
    "\n",
    "# Simple categorical pipeline: impute most frequent + one-hot encode\n",
    "simple_cat_pipeline = Pipeline(steps=[\n",
    "    (\"imputer\", SimpleImputer(strategy=\"most_frequent\")),\n",
    "    (\"onehot\", OneHotEncoder(handle_unknown=\"ignore\", sparse_output=False))\n",
    "])\n",
    "\n",
    "# Complex categorical pipeline: impute most frequent + target encode\n",
    "complex_cat_pipeline = Pipeline(steps=[\n",
    "    (\"imputer\", SimpleImputer(strategy=\"most_frequent\")),\n",
    "    (\"targetenc\", TargetEncoder())\n",
    "])\n",
    "\n",
    "# Combine everything into a ColumnTransformer\n",
    "preprocessor = ColumnTransformer(\n",
    "    transformers=[\n",
    "        (\"num\", num_pipeline, num_cols),\n",
    "        (\"simple_cat\", simple_cat_pipeline, simple_cat_cols),\n",
    "        (\"complex_cat\", complex_cat_pipeline, complex_cat_cols),\n",
    "    ]\n",
    ")\n"
   ],
   "metadata": {
    "collapsed": false,
    "ExecuteTime": {
     "end_time": "2025-08-31T23:49:45.415445700Z",
     "start_time": "2025-08-31T23:49:45.341972900Z"
    }
   },
   "id": "25d511174d149b13"
  },
  {
   "cell_type": "markdown",
   "source": [
    "### Preprocessing pipelines\n",
    "\n",
    "- Numeric: median imputation + scaling.  \n",
    "- Simple categorical: mode imputation + one-hot encoding.  \n",
    "- Complex categorical: mode imputation + target encoding.  \n",
    "\n",
    "These pipelines cover all feature groups and are combined into a single ColumnTransformer for use in model training.\n"
   ],
   "metadata": {
    "collapsed": false
   },
   "id": "9da59c80dd9f1134"
  },
  {
   "cell_type": "code",
   "execution_count": 6,
   "outputs": [
    {
     "name": "stdout",
     "output_type": "stream",
     "text": [
      "Original shape: (1000, 20)\n",
      "Transformed shape: (1000, 28)\n"
     ]
    },
    {
     "data": {
      "text/plain": "   Duration  CreditAmount  InstallmentRate  ResidenceSince       Age  \\\n0 -1.236478     -0.745131         0.918477        1.046987  2.766456   \n1  2.248194      0.949817        -0.870183       -0.765977 -1.191404   \n2 -0.738668     -0.416562        -0.870183        0.140505  1.183312   \n3  1.750384      1.634247        -0.870183        1.046987  0.831502   \n4  0.256953      0.566664         0.024147        1.046987  1.535122   \n\n   ExistingCredits  PeopleLiable  OtherDetors_co-applicant  \\\n0         1.027079     -0.428290                       0.0   \n1        -0.704926     -0.428290                       0.0   \n2        -0.704926      2.334869                       0.0   \n3        -0.704926      2.334869                       0.0   \n4         1.027079      2.334869                       0.0   \n\n   OtherDetors_guarantor  OtherDetors_none  ...  ForeignWorker_no  \\\n0                    0.0               1.0  ...               0.0   \n1                    0.0               1.0  ...               0.0   \n2                    0.0               1.0  ...               0.0   \n3                    1.0               0.0  ...               0.0   \n4                    0.0               1.0  ...               0.0   \n\n   ForeignWorker_yes    Status  CreditHistory   Purpose   Savings  Employment  \\\n0                1.0  0.492701       0.170648  0.221429  0.174863    0.252964   \n1                1.0  0.390335       0.318868  0.221429  0.359867    0.306785   \n2                1.0  0.116751       0.170648  0.433360  0.359867    0.224138   \n3                1.0  0.492701       0.318868  0.320442  0.359867    0.224138   \n4                1.0  0.492701       0.318162  0.380342  0.359867    0.306785   \n\n   SexAndStatus  Property       Job  \n0      0.266423  0.212766  0.295238  \n1      0.351613  0.212766  0.295238  \n2      0.266423  0.212766  0.280000  \n3      0.266423  0.306034  0.295238  \n4      0.266423  0.435065  0.295238  \n\n[5 rows x 28 columns]",
      "text/html": "<div>\n<style scoped>\n    .dataframe tbody tr th:only-of-type {\n        vertical-align: middle;\n    }\n\n    .dataframe tbody tr th {\n        vertical-align: top;\n    }\n\n    .dataframe thead th {\n        text-align: right;\n    }\n</style>\n<table border=\"1\" class=\"dataframe\">\n  <thead>\n    <tr style=\"text-align: right;\">\n      <th></th>\n      <th>Duration</th>\n      <th>CreditAmount</th>\n      <th>InstallmentRate</th>\n      <th>ResidenceSince</th>\n      <th>Age</th>\n      <th>ExistingCredits</th>\n      <th>PeopleLiable</th>\n      <th>OtherDetors_co-applicant</th>\n      <th>OtherDetors_guarantor</th>\n      <th>OtherDetors_none</th>\n      <th>...</th>\n      <th>ForeignWorker_no</th>\n      <th>ForeignWorker_yes</th>\n      <th>Status</th>\n      <th>CreditHistory</th>\n      <th>Purpose</th>\n      <th>Savings</th>\n      <th>Employment</th>\n      <th>SexAndStatus</th>\n      <th>Property</th>\n      <th>Job</th>\n    </tr>\n  </thead>\n  <tbody>\n    <tr>\n      <th>0</th>\n      <td>-1.236478</td>\n      <td>-0.745131</td>\n      <td>0.918477</td>\n      <td>1.046987</td>\n      <td>2.766456</td>\n      <td>1.027079</td>\n      <td>-0.428290</td>\n      <td>0.0</td>\n      <td>0.0</td>\n      <td>1.0</td>\n      <td>...</td>\n      <td>0.0</td>\n      <td>1.0</td>\n      <td>0.492701</td>\n      <td>0.170648</td>\n      <td>0.221429</td>\n      <td>0.174863</td>\n      <td>0.252964</td>\n      <td>0.266423</td>\n      <td>0.212766</td>\n      <td>0.295238</td>\n    </tr>\n    <tr>\n      <th>1</th>\n      <td>2.248194</td>\n      <td>0.949817</td>\n      <td>-0.870183</td>\n      <td>-0.765977</td>\n      <td>-1.191404</td>\n      <td>-0.704926</td>\n      <td>-0.428290</td>\n      <td>0.0</td>\n      <td>0.0</td>\n      <td>1.0</td>\n      <td>...</td>\n      <td>0.0</td>\n      <td>1.0</td>\n      <td>0.390335</td>\n      <td>0.318868</td>\n      <td>0.221429</td>\n      <td>0.359867</td>\n      <td>0.306785</td>\n      <td>0.351613</td>\n      <td>0.212766</td>\n      <td>0.295238</td>\n    </tr>\n    <tr>\n      <th>2</th>\n      <td>-0.738668</td>\n      <td>-0.416562</td>\n      <td>-0.870183</td>\n      <td>0.140505</td>\n      <td>1.183312</td>\n      <td>-0.704926</td>\n      <td>2.334869</td>\n      <td>0.0</td>\n      <td>0.0</td>\n      <td>1.0</td>\n      <td>...</td>\n      <td>0.0</td>\n      <td>1.0</td>\n      <td>0.116751</td>\n      <td>0.170648</td>\n      <td>0.433360</td>\n      <td>0.359867</td>\n      <td>0.224138</td>\n      <td>0.266423</td>\n      <td>0.212766</td>\n      <td>0.280000</td>\n    </tr>\n    <tr>\n      <th>3</th>\n      <td>1.750384</td>\n      <td>1.634247</td>\n      <td>-0.870183</td>\n      <td>1.046987</td>\n      <td>0.831502</td>\n      <td>-0.704926</td>\n      <td>2.334869</td>\n      <td>0.0</td>\n      <td>1.0</td>\n      <td>0.0</td>\n      <td>...</td>\n      <td>0.0</td>\n      <td>1.0</td>\n      <td>0.492701</td>\n      <td>0.318868</td>\n      <td>0.320442</td>\n      <td>0.359867</td>\n      <td>0.224138</td>\n      <td>0.266423</td>\n      <td>0.306034</td>\n      <td>0.295238</td>\n    </tr>\n    <tr>\n      <th>4</th>\n      <td>0.256953</td>\n      <td>0.566664</td>\n      <td>0.024147</td>\n      <td>1.046987</td>\n      <td>1.535122</td>\n      <td>1.027079</td>\n      <td>2.334869</td>\n      <td>0.0</td>\n      <td>0.0</td>\n      <td>1.0</td>\n      <td>...</td>\n      <td>0.0</td>\n      <td>1.0</td>\n      <td>0.492701</td>\n      <td>0.318162</td>\n      <td>0.380342</td>\n      <td>0.359867</td>\n      <td>0.306785</td>\n      <td>0.266423</td>\n      <td>0.435065</td>\n      <td>0.295238</td>\n    </tr>\n  </tbody>\n</table>\n<p>5 rows × 28 columns</p>\n</div>"
     },
     "execution_count": 6,
     "metadata": {},
     "output_type": "execute_result"
    }
   ],
   "source": [
    "# Fit the preprocessor on the dataset and transform\n",
    "X_transformed = preprocessor.fit_transform(X, y)\n",
    "\n",
    "print(\"Original shape:\", X.shape)\n",
    "print(\"Transformed shape:\", X_transformed.shape)\n",
    "\n",
    "# Build DataFrame with column names for inspection\n",
    "import numpy as np\n",
    "\n",
    "# Get transformed column names\n",
    "num_features = preprocessor.named_transformers_[\"num\"].get_feature_names_out(num_cols).tolist()\n",
    "simple_features = preprocessor.named_transformers_[\"simple_cat\"].get_feature_names_out(simple_cat_cols).tolist()\n",
    "complex_features = complex_cat_cols  # target encoder keeps same col names\n",
    "\n",
    "all_features = num_features + simple_features + complex_features\n",
    "\n",
    "X_transformed_df = pd.DataFrame(X_transformed, columns=all_features)\n",
    "\n",
    "X_transformed_df.head()\n"
   ],
   "metadata": {
    "collapsed": false,
    "ExecuteTime": {
     "end_time": "2025-08-31T23:49:50.805153900Z",
     "start_time": "2025-08-31T23:49:50.244271400Z"
    }
   },
   "id": "7ac871979dd98700"
  },
  {
   "cell_type": "markdown",
   "source": [
    "### Transformed dataset\n",
    "\n",
    "- Original dataset: (1000 rows, 20 features).  \n",
    "- Transformed dataset: larger feature space (28 features) due to one-hot encoding.  \n",
    "- Column names are preserved for numeric and complex features, and expanded for simple categorical (OHE).  \n",
    "\n",
    "This confirms the preprocessing design works as intended and can be embedded in the training pipeline.\n"
   ],
   "metadata": {
    "collapsed": false
   },
   "id": "7f9cfce1b318def"
  },
  {
   "cell_type": "code",
   "execution_count": null,
   "outputs": [],
   "source": [],
   "metadata": {
    "collapsed": false
   },
   "id": "b86c44a3e58919fd"
  }
 ],
 "metadata": {
  "kernelspec": {
   "display_name": "Python 3",
   "language": "python",
   "name": "python3"
  },
  "language_info": {
   "codemirror_mode": {
    "name": "ipython",
    "version": 2
   },
   "file_extension": ".py",
   "mimetype": "text/x-python",
   "name": "python",
   "nbconvert_exporter": "python",
   "pygments_lexer": "ipython2",
   "version": "2.7.6"
  }
 },
 "nbformat": 4,
 "nbformat_minor": 5
}
